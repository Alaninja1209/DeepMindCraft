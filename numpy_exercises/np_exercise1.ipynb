{
 "cells": [
  {
   "cell_type": "markdown",
   "metadata": {},
   "source": [
    "### Exercises of numpy"
   ]
  },
  {
   "cell_type": "code",
   "execution_count": 2,
   "metadata": {},
   "outputs": [],
   "source": [
    "# Importing the libraries\n",
    "import numpy as np"
   ]
  },
  {
   "cell_type": "code",
   "execution_count": 3,
   "metadata": {},
   "outputs": [
    {
     "name": "stdout",
     "output_type": "stream",
     "text": [
      "Array:  [0. 0. 0. 0. 0.]\n"
     ]
    }
   ],
   "source": [
    "# Creating a vector of length 5 with zeros\n",
    "z = np.zeros(5)\n",
    "print(\"Array: \", z)"
   ]
  },
  {
   "cell_type": "code",
   "execution_count": 4,
   "metadata": {},
   "outputs": [
    {
     "name": "stdout",
     "output_type": "stream",
     "text": [
      "[[1. 1. 1. 1.]\n",
      " [1. 1. 1. 1.]\n",
      " [1. 1. 1. 1.]\n",
      " [1. 1. 1. 1.]\n",
      " [1. 1. 1. 1.]\n",
      " [1. 1. 1. 1.]\n",
      " [1. 1. 1. 1.]\n",
      " [1. 1. 1. 1.]]\n"
     ]
    }
   ],
   "source": [
    "# Creating a matrix with 8 rows and 4 columns filled with ones\n",
    "m = np.ones(shape=(8,4))\n",
    "print(m)"
   ]
  },
  {
   "cell_type": "code",
   "execution_count": 5,
   "metadata": {},
   "outputs": [
    {
     "name": "stdout",
     "output_type": "stream",
     "text": [
      "Number of rows:  4\n",
      "Number of columns:  3\n"
     ]
    }
   ],
   "source": [
    "# Getting the number of rows and columns in a matrix\n",
    "matrix = np.array([[1, 2, 3],\n",
    "                   [4, 5, 6],\n",
    "                   [7, 8, 9],\n",
    "                   [10, 11, 12]])\n",
    "\n",
    "print(\"Number of rows: \", matrix.shape[0])\n",
    "print(\"Number of columns: \", matrix.shape[1])"
   ]
  },
  {
   "cell_type": "code",
   "execution_count": 6,
   "metadata": {},
   "outputs": [
    {
     "name": "stdout",
     "output_type": "stream",
     "text": [
      "------Reshape function------\n",
      "[[5 3 2 3 2 7]\n",
      " [8 3 7 5 6 3]\n",
      " [9 1 3 5 1 9]]\n",
      "------Ravel function--------\n",
      "[5 3 2 3 2 7 8 3 7 5 6 3 9 1 3 5 1 9]\n"
     ]
    }
   ],
   "source": [
    "# Different ways to reshape an array into a vector\n",
    "v = np.array([[[5, 3, 2],\n",
    "               [3, 2, 7],\n",
    "               [8, 3, 7]],\n",
    "\n",
    "               [[5, 6, 3],\n",
    "                [9, 1, 3],\n",
    "                [5, 1, 9]]])\n",
    "\n",
    "# Using the reshape function\n",
    "v_new = v.reshape(3, 6)\n",
    "v_ravel = v.ravel()\n",
    "\n",
    "print(\"------Reshape function------\")\n",
    "print(v_new)\n",
    "print(\"------Ravel function--------\")\n",
    "print(v_ravel)"
   ]
  },
  {
   "cell_type": "markdown",
   "metadata": {},
   "source": [
    "### Index and slicing exercises"
   ]
  },
  {
   "cell_type": "code",
   "execution_count": 11,
   "metadata": {},
   "outputs": [
    {
     "name": "stdout",
     "output_type": "stream",
     "text": [
      "[1. 0. 0. 0. 0. 0. 0. 0. 0. 1.]\n"
     ]
    }
   ],
   "source": [
    "# Create a vector of size 10 filled with zero, and set the first and last element to 1\n",
    "vec = np.zeros(10)\n",
    "vec[0] = 1\n",
    "vec[-1] = 1\n",
    "print(vec)"
   ]
  },
  {
   "cell_type": "code",
   "execution_count": 13,
   "metadata": {},
   "outputs": [
    {
     "name": "stdout",
     "output_type": "stream",
     "text": [
      "[ 5  1 13  2 12  0]\n",
      "[ 5  1 12  2 13  0]\n"
     ]
    }
   ],
   "source": [
    "# Making a swap of the 2nd and 4th index\n",
    "s = np.array([5, 1, 13, 2, 12, 0])\n",
    "\n",
    "# Before making the swap\n",
    "print(s)\n",
    "\n",
    "temp = s[2]\n",
    "s[2] = s[4]\n",
    "s[4] = temp\n",
    "\n",
    "# After making the swap\n",
    "print(s)"
   ]
  }
 ],
 "metadata": {
  "kernelspec": {
   "display_name": "Python 3",
   "language": "python",
   "name": "python3"
  },
  "language_info": {
   "codemirror_mode": {
    "name": "ipython",
    "version": 3
   },
   "file_extension": ".py",
   "mimetype": "text/x-python",
   "name": "python",
   "nbconvert_exporter": "python",
   "pygments_lexer": "ipython3",
   "version": "3.10.11"
  }
 },
 "nbformat": 4,
 "nbformat_minor": 2
}
