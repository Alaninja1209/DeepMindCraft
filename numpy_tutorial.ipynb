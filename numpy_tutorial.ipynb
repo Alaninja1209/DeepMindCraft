{
 "cells": [
  {
   "cell_type": "code",
   "execution_count": 1,
   "metadata": {},
   "outputs": [],
   "source": [
    "# Importing libraries\n",
    "import numpy as np"
   ]
  },
  {
   "cell_type": "markdown",
   "metadata": {},
   "source": [
    "### Numpy arrays\n",
    "\n",
    "The simplest ways to create an array is to pass a list of numbers to `np.array()` creating an one axis array better known as a vector\n",
    "\n",
    "A numpy array provides the following attributes:\n",
    "1) .ndim shows the number of axes in an array\n",
    "\n",
    "2) .shape a tuple of integers indicating the size of the array in each dimension \n",
    "\n",
    "3) .size shows how many elements are in the array"
   ]
  },
  {
   "cell_type": "code",
   "execution_count": 2,
   "metadata": {},
   "outputs": [
    {
     "name": "stdout",
     "output_type": "stream",
     "text": [
      "Multiplication of both arrays:  [ 5 12 28]\n"
     ]
    }
   ],
   "source": [
    "# Multiplication of two arrays\n",
    "a = np.array([1, 2, 4])\n",
    "b = np.array([5, 6, 7])\n",
    "print(\"Multiplication of both arrays: \", a * b)"
   ]
  },
  {
   "cell_type": "code",
   "execution_count": 3,
   "metadata": {},
   "outputs": [
    {
     "name": "stdout",
     "output_type": "stream",
     "text": [
      "Ndim:  1\n",
      "Shape:  (5,)\n",
      "Size:  5\n"
     ]
    }
   ],
   "source": [
    "# Inspecting each atributes of the numpy array\n",
    "v = np.array([1, 2, 3, 4, 6])\n",
    "\n",
    "print(\"Ndim: \", v.ndim)\n",
    "print(\"Shape: \", v.shape)\n",
    "print(\"Size: \", v.size)"
   ]
  },
  {
   "cell_type": "markdown",
   "metadata": {},
   "source": [
    "### Matrices\n",
    "\n",
    "It is possible to create an array by passing a sequence of lists to a numpy array. This produces an array of two axes, which is referred to a matrix"
   ]
  },
  {
   "cell_type": "code",
   "execution_count": 4,
   "metadata": {},
   "outputs": [
    {
     "name": "stdout",
     "output_type": "stream",
     "text": [
      "[[0 1 2]\n",
      " [3 4 5]\n",
      " [6 7 8]]\n"
     ]
    }
   ],
   "source": [
    "# Declaring our lists\n",
    "l = [[0, 1, 2], [3, 4, 5], [6, 7, 8]]\n",
    "\n",
    "# Adding sequence of list to a numpy array\n",
    "matrix = np.array(l)\n",
    "print(matrix)"
   ]
  },
  {
   "cell_type": "code",
   "execution_count": 5,
   "metadata": {},
   "outputs": [
    {
     "name": "stdout",
     "output_type": "stream",
     "text": [
      "Ndim:  2\n",
      "Shape:  (3, 3)\n",
      "Size:  9\n"
     ]
    }
   ],
   "source": [
    "# Exploring their attributes\n",
    "print(\"Ndim: \", matrix.ndim)\n",
    "print(\"Shape: \", matrix.shape) # Matrix represented by N rows and M columns\n",
    "print(\"Size: \", matrix.size)"
   ]
  },
  {
   "cell_type": "code",
   "execution_count": 6,
   "metadata": {},
   "outputs": [
    {
     "name": "stdout",
     "output_type": "stream",
     "text": [
      "-------Vector-------\n",
      "[2 5 9] shape ->  (3,)\n",
      "-------Matrix one row-------\n",
      "[[2 5 9]] shape ->  (1, 3)\n",
      "-------Matrix one column-------\n",
      "[[2]\n",
      " [5]\n",
      " [9]] shape ->  (3, 1)\n"
     ]
    }
   ],
   "source": [
    "# To avoid syntax errors, understand the differences between vectors, arrays and columns\n",
    "vec = np.array([2, 5, 9])\n",
    "row = np.array([[2, 5, 9]])\n",
    "col = np.array([[2], [5], [9]])\n",
    "\n",
    "# Remark that matrix have double pairs of brackets, while vectors only have one pair\n",
    "print(\"-------Vector-------\")\n",
    "print(vec, \"shape -> \", vec.shape)\n",
    "print(\"-------Matrix one row-------\")\n",
    "print(row, \"shape -> \", row.shape)\n",
    "print(\"-------Matrix one column-------\")\n",
    "print(col, \"shape -> \", col.shape)"
   ]
  },
  {
   "cell_type": "markdown",
   "metadata": {},
   "source": [
    "### Non-dimensional arrays\n",
    "\n",
    "We have no limit with respect to the nestling level of lists added to a numpy array. Here we create an array with three axes better known as volume"
   ]
  },
  {
   "cell_type": "code",
   "execution_count": 7,
   "metadata": {},
   "outputs": [
    {
     "name": "stdout",
     "output_type": "stream",
     "text": [
      "[[[0 1 2]\n",
      "  [3 4 5]\n",
      "  [6 7 8]]\n",
      "\n",
      " [[8 7 6]\n",
      "  [5 4 3]\n",
      "  [2 1 0]]]\n"
     ]
    }
   ],
   "source": [
    "lists = [[[0, 1, 2], [3, 4, 5], [6, 7, 8]], [[8, 7, 6], [5, 4, 3], [2, 1, 0]]]\n",
    "volume = np.array(lists)\n",
    "print(volume)"
   ]
  },
  {
   "cell_type": "code",
   "execution_count": 8,
   "metadata": {},
   "outputs": [
    {
     "name": "stdout",
     "output_type": "stream",
     "text": [
      "Ndim:  3\n",
      "Shape:  (2, 3, 3)\n",
      "Size:  18\n"
     ]
    }
   ],
   "source": [
    "# Inspecting their attributes\n",
    "print(\"Ndim: \", volume.ndim)\n",
    "print(\"Shape: \", volume.shape) # Two matrices represented by N rows and M columns\n",
    "print(\"Size: \", volume.size)"
   ]
  },
  {
   "cell_type": "markdown",
   "metadata": {},
   "source": [
    "### Reshaping\n",
    "\n",
    "We can change the shape of an array with different commands:\n",
    "1) **.reshape** reconfigures the array to a new shape\n",
    "2) **.ravel** stretches the array into a vector\n",
    "\n",
    "**Note:** we create an array of random integers, in the `randint()` function the first parameter states the range of the numbers (0 to 9) and size declares the dimensions of the matrix (3 rows and 4 columns)"
   ]
  },
  {
   "cell_type": "code",
   "execution_count": 9,
   "metadata": {},
   "outputs": [
    {
     "name": "stdout",
     "output_type": "stream",
     "text": [
      "-------X-------\n",
      "[[1 4 7 2]\n",
      " [3 1 9 5]\n",
      " [9 7 9 5]] shape ->  (3, 4)\n",
      "-------Y-------\n",
      "[[1 4]\n",
      " [7 2]\n",
      " [3 1]\n",
      " [9 5]\n",
      " [9 7]\n",
      " [9 5]] shape ->  (6, 2)\n",
      "-------Z-------\n",
      "[1 4 7 2 3 1 9 5 9 7 9 5] shape ->  (12,)\n"
     ]
    }
   ],
   "source": [
    "# Creating a numpy array of random integers\n",
    "x = np.random.randint(10, size=(3,4))\n",
    "y = x.reshape(6, 2)\n",
    "z = x.ravel()\n",
    "\n",
    "# Printing information of their shape\n",
    "print(\"-------X-------\")\n",
    "print(x, \"shape -> \", x.shape)\n",
    "print(\"-------Y-------\")\n",
    "print(y, \"shape -> \", y.shape)\n",
    "print(\"-------Z-------\")\n",
    "print(z, \"shape -> \", z.shape)"
   ]
  },
  {
   "cell_type": "markdown",
   "metadata": {},
   "source": [
    "Reshape doesn't make a copy of the data, it produces a new view of the original array. A view behaves as a regular array, except that its elements are **shared**  with the array from which was created"
   ]
  },
  {
   "cell_type": "code",
   "execution_count": 10,
   "metadata": {},
   "outputs": [
    {
     "name": "stdout",
     "output_type": "stream",
     "text": [
      "Array a -> [4 8 7 2 5 1]\n",
      "Reshaped array\n",
      "[[4 8 7]\n",
      " [2 5 1]]\n"
     ]
    }
   ],
   "source": [
    "a = np.array([4, 8, 7, 2, 5, 1])\n",
    "\n",
    "# Here we are sharing data from a to create a new view of the array stored in b\n",
    "b = a.reshape(2, 3)\n",
    "\n",
    "print(\"Array a ->\", a)\n",
    "print(\"Reshaped array\")\n",
    "print(b)"
   ]
  },
  {
   "cell_type": "markdown",
   "metadata": {},
   "source": [
    "### Important Point\n",
    "The reshaped arrays share the same elements of the original array, without making an actual copy of the data. So, any modification on the reshaped array is performed in the original array"
   ]
  },
  {
   "cell_type": "code",
   "execution_count": 11,
   "metadata": {},
   "outputs": [
    {
     "name": "stdout",
     "output_type": "stream",
     "text": [
      "------a------\n",
      "[ 4  8  7 -8  5  1]\n",
      "------b------\n",
      "[[ 4  8  7]\n",
      " [-8  5  1]]\n"
     ]
    }
   ],
   "source": [
    "b[1,0] = -8 # This modification will occur also in the original array\n",
    "\n",
    "print(\"------a------\")\n",
    "print(a)\n",
    "print(\"------b------\")\n",
    "print(b)"
   ]
  },
  {
   "cell_type": "markdown",
   "metadata": {},
   "source": [
    "### Array indexing\n",
    "\n",
    "When indexing a vector of one dimension consider the next advices:\n",
    "- A single element is extracted by giving it positions\n",
    "- The index must be between 0 and n - 1\n",
    "- Negative integers can be used for integer like -1 or -size"
   ]
  },
  {
   "cell_type": "code",
   "execution_count": 12,
   "metadata": {},
   "outputs": [
    {
     "name": "stdout",
     "output_type": "stream",
     "text": [
      "[2.1 3.4 1.  5.5 3.  8.  7. ]\n",
      "Vector index 2:  1.0\n",
      "Vector index -1:  7.0\n"
     ]
    }
   ],
   "source": [
    "# Declaring our vector\n",
    "vec = np.array([2.1, 3.4, 1, 5.5, 3, 8,7])\n",
    "\n",
    "print(vec)\n",
    "print(\"Vector index 2: \", vec[2])\n",
    "print(\"Vector index -1: \", vec[-1])"
   ]
  },
  {
   "cell_type": "markdown",
   "metadata": {},
   "source": [
    "We can also do this for multidimensional arrays, consider the next advices:\n",
    "- A single element is extracted by giving a tuple of integers, one for each axis\n",
    "- The integers must be between 0 and shape[n] - 1"
   ]
  },
  {
   "cell_type": "code",
   "execution_count": 13,
   "metadata": {},
   "outputs": [
    {
     "name": "stdout",
     "output_type": "stream",
     "text": [
      "[[1 3 4]\n",
      " [2 5 8]\n",
      " [3 1 4]\n",
      " [7 1 9]]\n",
      "Index value:  8\n"
     ]
    }
   ],
   "source": [
    "m = np.array([[1, 3, 4], [2, 5, 8], [3, 1, 4], [7, 1, 9]])\n",
    "\n",
    "# Printing the value in index [1, 2]\n",
    "print(m)\n",
    "print(\"Index value: \", m[1,2])"
   ]
  },
  {
   "cell_type": "code",
   "execution_count": 14,
   "metadata": {},
   "outputs": [
    {
     "name": "stdout",
     "output_type": "stream",
     "text": [
      "[[[1 3 1]\n",
      "  [2 5 1]]\n",
      "\n",
      " [[5 9 0]\n",
      "  [5 7 3]]]\n",
      "Index value:  9\n"
     ]
    }
   ],
   "source": [
    "v = np.array([[[1, 3, 1], [2, 5, 1]], [[5, 9, 0], [5, 7, 3]]])\n",
    "\n",
    "# Printing the value at index [1,0,-2]\n",
    "print(v)\n",
    "print(\"Index value: \", v[1,0,-2])"
   ]
  },
  {
   "cell_type": "markdown",
   "metadata": {},
   "source": [
    "### Slicing\n",
    "\n",
    "You can extract a contiguous subarray using the slice notation"
   ]
  },
  {
   "cell_type": "code",
   "execution_count": 15,
   "metadata": {},
   "outputs": [
    {
     "name": "stdout",
     "output_type": "stream",
     "text": [
      "Original vector:  [2.1 3.4 1.  5.5 3.  8.  7. ]\n",
      "Vector [1:3]  [3.4 1. ]\n",
      "Vector index to so on  [1.  5.5 3.  8.  7. ]\n"
     ]
    }
   ],
   "source": [
    "print(\"Original vector: \", vec)\n",
    "\n",
    "# vector[start:stop] it stops at i - 1\n",
    "print(\"Vector [1:3] \", vec[1:3])\n",
    "\n",
    "# vector[start:] until the end\n",
    "print(\"Vector index to so on \", vec[2:])\n",
    "\n",
    "# Note when [:] prints all items"
   ]
  },
  {
   "cell_type": "code",
   "execution_count": 16,
   "metadata": {},
   "outputs": [
    {
     "name": "stdout",
     "output_type": "stream",
     "text": [
      "[[1 3 4]\n",
      " [2 5 8]\n",
      " [3 1 4]\n",
      " [7 1 9]]\n",
      "Matrix [2:]  [7 1 9]\n",
      "Matrix [1:3, :2]  [[2 5]\n",
      " [3 1]]\n"
     ]
    }
   ],
   "source": [
    "# Applying it to matrix, do it for any axis of a multidimensional array\n",
    "print(m)\n",
    "print(\"Matrix [2:] \", m[3, :])\n",
    "print(\"Matrix [1:3, :2] \", m[1:3, 0:2])"
   ]
  },
  {
   "cell_type": "markdown",
   "metadata": {},
   "source": [
    "### Copying it or sharing it?\n",
    "\n",
    "Point out that slicing just creates a new view of the original array. The view behaves like a regular array, except that the elements are `shared` from the original array"
   ]
  },
  {
   "cell_type": "code",
   "execution_count": 17,
   "metadata": {},
   "outputs": [
    {
     "name": "stdout",
     "output_type": "stream",
     "text": [
      "a:  [ 4 10  7  2  5]\n",
      "b:  [10  7]\n",
      "Modificated a:  [ 4 -1  7  2  5]\n"
     ]
    }
   ],
   "source": [
    "a = np.array([4, 10, 7, 2, 5])\n",
    "b = a[1:3]\n",
    "\n",
    "print(\"a: \", a)\n",
    "print(\"b: \", b)\n",
    "\n",
    "# Modification in slide array also happens in original array\n",
    "b[0] = -1\n",
    "\n",
    "print(\"Modificated a: \", a)"
   ]
  },
  {
   "cell_type": "markdown",
   "metadata": {},
   "source": [
    "To create a copy of the array, use the `copy() function`"
   ]
  },
  {
   "cell_type": "code",
   "execution_count": 18,
   "metadata": {},
   "outputs": [
    {
     "name": "stdout",
     "output_type": "stream",
     "text": [
      "a:  [4 1 2 8 5 8]\n",
      "b:  [9 2]\n"
     ]
    }
   ],
   "source": [
    "a = np.array([4, 1, 2, 8, 5, 8])\n",
    "b = a[1:3].copy()\n",
    "\n",
    "# No modification is perfomed in original array\n",
    "b[0] = 9\n",
    "\n",
    "print(\"a: \", a)\n",
    "print(\"b: \", b)"
   ]
  },
  {
   "cell_type": "markdown",
   "metadata": {},
   "source": [
    "### Assinging values to sliced arrays\n",
    "\n",
    "It's possible to assign values to a slice of an array. The only drawback is that the values being assigned to the sliced array must be shape consistent"
   ]
  },
  {
   "cell_type": "code",
   "execution_count": 19,
   "metadata": {},
   "outputs": [
    {
     "name": "stdout",
     "output_type": "stream",
     "text": [
      "[  0   1 -10 -10 -10 -10 -10   7   8   9]\n",
      "[ 0  1 10 20 30 40 50  7  8  9]\n"
     ]
    }
   ],
   "source": [
    "x = np.arange(10)\n",
    "\n",
    "# We can assign a constant to a slice\n",
    "x[2:7] = -10\n",
    "print(x)\n",
    "\n",
    "# Assign values to a slice, beware of the shape\n",
    "x[2:7] = np.array([10, 20, 30, 40, 50])\n",
    "print(x)"
   ]
  },
  {
   "cell_type": "markdown",
   "metadata": {},
   "source": [
    "### Linear algebra\n",
    "\n",
    "To multiply two vectors the most natural way is the element-wise product which multiplies two vectors from the same size element by element"
   ]
  },
  {
   "cell_type": "code",
   "execution_count": 20,
   "metadata": {},
   "outputs": [
    {
     "name": "stdout",
     "output_type": "stream",
     "text": [
      "[32.68 23.04 17.67]\n"
     ]
    }
   ],
   "source": [
    "# To multiply element by element use *\n",
    "x = np.array([4.3, 7.2, 3.1])\n",
    "y = np.array([7.6, 3.2, 5.7])\n",
    "\n",
    "p = x * y\n",
    "print(p)"
   ]
  },
  {
   "cell_type": "markdown",
   "metadata": {},
   "source": [
    "To do `scalar product` is another way to multiply two vectors from the same direction. Multiply each element one by one and add the sum of the product"
   ]
  },
  {
   "cell_type": "code",
   "execution_count": 21,
   "metadata": {},
   "outputs": [
    {
     "name": "stdout",
     "output_type": "stream",
     "text": [
      "73.39\n"
     ]
    }
   ],
   "source": [
    "dot = x @ y\n",
    "print(dot)"
   ]
  },
  {
   "cell_type": "code",
   "execution_count": 22,
   "metadata": {},
   "outputs": [
    {
     "name": "stdout",
     "output_type": "stream",
     "text": [
      "[10 16]\n",
      "[ 9 24  6]\n"
     ]
    }
   ],
   "source": [
    "# We can also perform matrix-vector multiplications or viceversa\n",
    "A = np.array([[1, 3, 1], [2, 5, 1]])\n",
    "b = np.array([2, 2, 2])\n",
    "c = np.array([3, 3])\n",
    "\n",
    "Ab = A @ b\n",
    "Ac = c @ A\n",
    "\n",
    "print(Ab)\n",
    "print(Ac)"
   ]
  },
  {
   "cell_type": "code",
   "execution_count": 23,
   "metadata": {},
   "outputs": [
    {
     "data": {
      "text/plain": [
       "(2, 3)"
      ]
     },
     "execution_count": 23,
     "metadata": {},
     "output_type": "execute_result"
    }
   ],
   "source": [
    "a = np.random.randn(2, 3)  # a.shape = (2, 3)\n",
    "b = np.random.randn(2, 1)  # b.shape = (2, 1)\n",
    "c = a + b\n",
    "c.shape"
   ]
  }
 ],
 "metadata": {
  "kernelspec": {
   "display_name": "Python 3",
   "language": "python",
   "name": "python3"
  },
  "language_info": {
   "codemirror_mode": {
    "name": "ipython",
    "version": 3
   },
   "file_extension": ".py",
   "mimetype": "text/x-python",
   "name": "python",
   "nbconvert_exporter": "python",
   "pygments_lexer": "ipython3",
   "version": "3.10.11"
  }
 },
 "nbformat": 4,
 "nbformat_minor": 2
}
