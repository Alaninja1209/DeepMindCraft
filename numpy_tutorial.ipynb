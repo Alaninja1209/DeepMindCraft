{
 "cells": [
  {
   "cell_type": "code",
   "execution_count": 1,
   "metadata": {},
   "outputs": [],
   "source": [
    "# Importing libraries\n",
    "import numpy as np"
   ]
  },
  {
   "cell_type": "markdown",
   "metadata": {},
   "source": [
    "### Numpy arrays\n",
    "\n",
    "The simplest ways to create an array is to pass a list of numbers to `np.array()` creating an one axis array better known as a vector\n",
    "\n",
    "A numpy array provides the following attributes:\n",
    "1) .ndim shows the number of axes in an array\n",
    "\n",
    "2) .shape a tuple of integers indicating the size of the array in each dimension \n",
    "\n",
    "3) .size shows how many elements are in the array"
   ]
  },
  {
   "cell_type": "code",
   "execution_count": 2,
   "metadata": {},
   "outputs": [
    {
     "name": "stdout",
     "output_type": "stream",
     "text": [
      "Multiplication of both arrays:  [ 5 12 28]\n"
     ]
    }
   ],
   "source": [
    "# Multiplication of two arrays\n",
    "a = np.array([1, 2, 4])\n",
    "b = np.array([5, 6, 7])\n",
    "print(\"Multiplication of both arrays: \", a * b)"
   ]
  },
  {
   "cell_type": "code",
   "execution_count": 4,
   "metadata": {},
   "outputs": [
    {
     "name": "stdout",
     "output_type": "stream",
     "text": [
      "Ndim:  1\n",
      "Shape:  (5,)\n",
      "Size:  5\n"
     ]
    }
   ],
   "source": [
    "# Inspecting each atributes of the numpy array\n",
    "v = np.array([1, 2, 3, 4, 6])\n",
    "\n",
    "print(\"Ndim: \", v.ndim)\n",
    "print(\"Shape: \", v.shape)\n",
    "print(\"Size: \", v.size)"
   ]
  },
  {
   "cell_type": "markdown",
   "metadata": {},
   "source": [
    "### Matrices\n",
    "\n",
    "It is possible to create an array by passing a sequence of lists to a numpy array. This produces an array of two axes, which is referred to a matrix"
   ]
  },
  {
   "cell_type": "code",
   "execution_count": 7,
   "metadata": {},
   "outputs": [
    {
     "name": "stdout",
     "output_type": "stream",
     "text": [
      "[[0 1 2]\n",
      " [3 4 5]\n",
      " [6 7 8]]\n"
     ]
    }
   ],
   "source": [
    "# Declaring our lists\n",
    "l = [[0, 1, 2], [3, 4, 5], [6, 7, 8]]\n",
    "\n",
    "# Adding sequence of list to a numpy array\n",
    "matrix = np.array(l)\n",
    "print(matrix)"
   ]
  },
  {
   "cell_type": "code",
   "execution_count": 8,
   "metadata": {},
   "outputs": [
    {
     "name": "stdout",
     "output_type": "stream",
     "text": [
      "Ndim:  2\n",
      "Shape:  (3, 3)\n",
      "Size:  9\n"
     ]
    }
   ],
   "source": [
    "# Exploring their attributes\n",
    "print(\"Ndim: \", matrix.ndim)\n",
    "print(\"Shape: \", matrix.shape) # Matrix represented by N rows and M columns\n",
    "print(\"Size: \", matrix.size)"
   ]
  }
 ],
 "metadata": {
  "kernelspec": {
   "display_name": "Python 3",
   "language": "python",
   "name": "python3"
  },
  "language_info": {
   "codemirror_mode": {
    "name": "ipython",
    "version": 3
   },
   "file_extension": ".py",
   "mimetype": "text/x-python",
   "name": "python",
   "nbconvert_exporter": "python",
   "pygments_lexer": "ipython3",
   "version": "3.10.11"
  }
 },
 "nbformat": 4,
 "nbformat_minor": 2
}
