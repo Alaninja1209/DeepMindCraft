{
 "cells": [
  {
   "cell_type": "code",
   "execution_count": 1,
   "metadata": {},
   "outputs": [],
   "source": [
    "# Importing standard libraries\n",
    "import math as mt\n",
    "import numpy as np\n",
    "import time\n",
    "import os\n",
    "\n",
    "# Import pytorch\n",
    "import torch"
   ]
  },
  {
   "cell_type": "markdown",
   "metadata": {},
   "source": [
    "### Setting the seed\n",
    "\n",
    "In a machine learning framework, Pytorch provides some functions that are stochastic as generating random numbers. However, a good practice is to setup your code to use the same exact random numbers"
   ]
  },
  {
   "cell_type": "code",
   "execution_count": 2,
   "metadata": {},
   "outputs": [
    {
     "data": {
      "text/plain": [
       "<torch._C.Generator at 0x1d95dd4f8b0>"
      ]
     },
     "execution_count": 2,
     "metadata": {},
     "output_type": "execute_result"
    }
   ],
   "source": [
    "torch.manual_seed(42)"
   ]
  },
  {
   "cell_type": "markdown",
   "metadata": {},
   "source": [
    "### Tensors\n",
    "\n",
    "Tensors are equivalent to numpy arrays with the addition of support for GPU acceleration. For instance:\n",
    "- A vector is a 1-D tensor\n",
    "- A matrix is a 2-D tensor\n",
    "\n",
    "Most common functions of numpy can be also used on tensors. With this in mind, we're able to convert most tensors to numpy arrays\n",
    "\n",
    "`Note: Working with networks will involve the use of tensors of various shapes and dimensions` "
   ]
  },
  {
   "cell_type": "markdown",
   "metadata": {},
   "source": [
    "### Initialize a tensor\n",
    "\n",
    "There are different ways to initialize a tensor, the simplest way is to call `torch.Tensor` with the next arguments:\n",
    "1) Represents the length of dimension 0 of the tensor\n",
    "2) Represents the length of dimension 1 of the tensor\n",
    "3) Represents the length of dimension 2 of the tensor"
   ]
  },
  {
   "cell_type": "code",
   "execution_count": 3,
   "metadata": {},
   "outputs": [
    {
     "name": "stdout",
     "output_type": "stream",
     "text": [
      "tensor([[[1.5766e-19, 1.0256e-08, 1.0313e-08, 3.1300e+12],\n",
      "         [1.7343e-07, 6.4475e-10, 4.2186e-08, 1.3034e+16],\n",
      "         [2.1707e-18, 7.0952e+22, 1.7748e+28, 1.8176e+31]],\n",
      "\n",
      "        [[7.2708e+31, 5.0778e+31, 3.2608e-12, 1.7728e+28],\n",
      "         [7.0367e+22, 2.1715e-18, 2.0546e+20, 1.3149e+22],\n",
      "         [2.1589e-04, 6.5548e-10, 1.6517e-04, 1.0538e-11]]])\n"
     ]
    }
   ],
   "source": [
    "x = torch.Tensor(2, 3, 4)\n",
    "print(x)"
   ]
  },
  {
   "cell_type": "markdown",
   "metadata": {},
   "source": [
    "Also, you can assign direct values to the tensor during initialization"
   ]
  },
  {
   "cell_type": "code",
   "execution_count": 4,
   "metadata": {},
   "outputs": [
    {
     "name": "stdout",
     "output_type": "stream",
     "text": [
      "tensor([[1., 2.],\n",
      "        [3., 4.]])\n"
     ]
    }
   ],
   "source": [
    "# Create a tensor from a nested list\n",
    "x = torch.Tensor([[1, 2], [3, 4]])\n",
    "print(x)"
   ]
  },
  {
   "cell_type": "code",
   "execution_count": 5,
   "metadata": {},
   "outputs": [
    {
     "name": "stdout",
     "output_type": "stream",
     "text": [
      "tensor([[[0.8823, 0.9150, 0.3829, 0.9593],\n",
      "         [0.3904, 0.6009, 0.2566, 0.7936],\n",
      "         [0.9408, 0.1332, 0.9346, 0.5936]],\n",
      "\n",
      "        [[0.8694, 0.5677, 0.7411, 0.4294],\n",
      "         [0.8854, 0.5739, 0.2666, 0.6274],\n",
      "         [0.2696, 0.4414, 0.2969, 0.8317]]])\n"
     ]
    }
   ],
   "source": [
    "# Use of the rand function to create random values between 0 and 1\n",
    "x = torch.rand(2, 3, 4)\n",
    "print(x)"
   ]
  },
  {
   "cell_type": "markdown",
   "metadata": {},
   "source": [
    "You can obtain the shape of a tensor in the same way as numpy, or use the `size` method"
   ]
  },
  {
   "cell_type": "code",
   "execution_count": 6,
   "metadata": {},
   "outputs": [
    {
     "name": "stdout",
     "output_type": "stream",
     "text": [
      "Shape:  torch.Size([2, 3, 4])\n",
      "Size:  torch.Size([2, 3, 4])\n",
      "Size:  2 3 4\n"
     ]
    }
   ],
   "source": [
    "shape = x.shape\n",
    "print(\"Shape: \", shape)\n",
    "\n",
    "size = x.size()\n",
    "print(\"Size: \", size)\n",
    "\n",
    "# Print the dimension of the tensor\n",
    "dim1, dim2, dim3 = x.size()\n",
    "print(\"Size: \", dim1, dim2, dim3)"
   ]
  }
 ],
 "metadata": {
  "kernelspec": {
   "display_name": "Python 3",
   "language": "python",
   "name": "python3"
  },
  "language_info": {
   "codemirror_mode": {
    "name": "ipython",
    "version": 3
   },
   "file_extension": ".py",
   "mimetype": "text/x-python",
   "name": "python",
   "nbconvert_exporter": "python",
   "pygments_lexer": "ipython3",
   "version": "3.10.11"
  }
 },
 "nbformat": 4,
 "nbformat_minor": 2
}
