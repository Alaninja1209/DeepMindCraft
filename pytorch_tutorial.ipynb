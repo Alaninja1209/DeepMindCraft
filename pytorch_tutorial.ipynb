{
 "cells": [
  {
   "cell_type": "code",
   "execution_count": 1,
   "metadata": {},
   "outputs": [],
   "source": [
    "# Importing standard libraries\n",
    "import math as mt\n",
    "import numpy as np\n",
    "import time\n",
    "import os\n",
    "\n",
    "# Import pytorch\n",
    "import torch"
   ]
  },
  {
   "cell_type": "markdown",
   "metadata": {},
   "source": [
    "### Setting the seed\n",
    "\n",
    "In a machine learning framework, Pytorch provides some functions that are stochastic as generating random numbers. However, a good practice is to setup your code to use the same exact random numbers"
   ]
  },
  {
   "cell_type": "code",
   "execution_count": 2,
   "metadata": {},
   "outputs": [
    {
     "data": {
      "text/plain": [
       "<torch._C.Generator at 0x1da9c34f8f0>"
      ]
     },
     "execution_count": 2,
     "metadata": {},
     "output_type": "execute_result"
    }
   ],
   "source": [
    "torch.manual_seed(42)"
   ]
  },
  {
   "cell_type": "markdown",
   "metadata": {},
   "source": [
    "### Tensors\n",
    "\n",
    "Tensors are equivalent to numpy arrays with the addition of support for GPU acceleration. For instance:\n",
    "- A vector is a 1-D tensor\n",
    "- A matrix is a 2-D tensor\n",
    "\n",
    "Most common functions of numpy can be also used on tensors. With this in mind, we're able to convert most tensors to numpy arrays\n",
    "\n",
    "`Note: Working with networks will involve the use of tensors of various shapes and dimensions` "
   ]
  },
  {
   "cell_type": "markdown",
   "metadata": {},
   "source": [
    "### Initialize a tensor\n",
    "\n",
    "There are different ways to initialize a tensor, the simplest way is to call `torch.Tensor` with the next arguments:\n",
    "1) Represents the length of dimension 0 of the tensor\n",
    "2) Represents the length of dimension 1 of the tensor\n",
    "3) Represents the length of dimension 2 of the tensor"
   ]
  },
  {
   "cell_type": "code",
   "execution_count": 3,
   "metadata": {},
   "outputs": [
    {
     "name": "stdout",
     "output_type": "stream",
     "text": [
      "tensor([[[0.0000e+00, 0.0000e+00, 7.7052e+31, 7.2148e+22],\n",
      "         [1.5766e-19, 1.0256e-08, 1.0313e-08, 3.1472e+12],\n",
      "         [6.9362e-07, 4.1031e-08, 6.5645e-07, 1.2469e+16]],\n",
      "\n",
      "        [[2.1707e-18, 7.0952e+22, 1.7748e+28, 1.8176e+31],\n",
      "         [7.2708e+31, 5.0778e+31, 3.2608e-12, 1.7728e+28],\n",
      "         [7.0367e+22, 2.1715e-18, 3.3828e+21, 3.3559e-06]]])\n"
     ]
    }
   ],
   "source": [
    "x = torch.Tensor(2, 3, 4)\n",
    "print(x)"
   ]
  },
  {
   "cell_type": "markdown",
   "metadata": {},
   "source": [
    "Also, you can assign direct values to the tensor during initialization"
   ]
  },
  {
   "cell_type": "code",
   "execution_count": 4,
   "metadata": {},
   "outputs": [
    {
     "name": "stdout",
     "output_type": "stream",
     "text": [
      "tensor([[1., 2.],\n",
      "        [3., 4.]])\n"
     ]
    }
   ],
   "source": [
    "# Create a tensor from a nested list\n",
    "x = torch.Tensor([[1, 2], [3, 4]])\n",
    "print(x)"
   ]
  },
  {
   "cell_type": "code",
   "execution_count": 5,
   "metadata": {},
   "outputs": [
    {
     "name": "stdout",
     "output_type": "stream",
     "text": [
      "tensor([[[0.8823, 0.9150, 0.3829, 0.9593],\n",
      "         [0.3904, 0.6009, 0.2566, 0.7936],\n",
      "         [0.9408, 0.1332, 0.9346, 0.5936]],\n",
      "\n",
      "        [[0.8694, 0.5677, 0.7411, 0.4294],\n",
      "         [0.8854, 0.5739, 0.2666, 0.6274],\n",
      "         [0.2696, 0.4414, 0.2969, 0.8317]]])\n"
     ]
    }
   ],
   "source": [
    "# Use of the rand function to create random values between 0 and 1\n",
    "x = torch.rand(2, 3, 4)\n",
    "print(x)"
   ]
  },
  {
   "cell_type": "markdown",
   "metadata": {},
   "source": [
    "You can obtain the shape of a tensor in the same way as numpy, or use the `size` method"
   ]
  },
  {
   "cell_type": "code",
   "execution_count": 7,
   "metadata": {},
   "outputs": [
    {
     "name": "stdout",
     "output_type": "stream",
     "text": [
      "Shape:  torch.Size([2, 3, 4])\n",
      "Size:  torch.Size([2, 3, 4])\n",
      "Size:  2 3 4\n"
     ]
    }
   ],
   "source": [
    "shape = x.shape\n",
    "print(\"Shape: \", shape)\n",
    "\n",
    "size = x.size()\n",
    "print(\"Size: \", size)\n",
    "\n",
    "# Print the dimension of the tensor\n",
    "dim1, dim2, dim3 = x.size()\n",
    "print(\"Size: \", dim1, dim2, dim3)"
   ]
  },
  {
   "cell_type": "markdown",
   "metadata": {},
   "source": [
    "### Tensor to numpy\n",
    "\n",
    "Tensores can be turned to numpy arrays, and viceversa. To transform a numpy array into a tensor, we can use the function `torch.from_numpy`"
   ]
  },
  {
   "cell_type": "code",
   "execution_count": 10,
   "metadata": {},
   "outputs": [
    {
     "name": "stdout",
     "output_type": "stream",
     "text": [
      "Numpy array:  [[1 2]\n",
      " [3 4]]\n",
      "Pytorch tensor:  tensor([[1, 2],\n",
      "        [3, 4]], dtype=torch.int32)\n"
     ]
    }
   ],
   "source": [
    "np_array = np.array(([1, 2], [3, 4]))\n",
    "\n",
    "# Turning a numpy array to tensor\n",
    "tensor = torch.from_numpy(np_array)\n",
    "\n",
    "print(\"Numpy array: \", np_array)\n",
    "print(\"Pytorch tensor: \", tensor)"
   ]
  },
  {
   "cell_type": "code",
   "execution_count": 11,
   "metadata": {},
   "outputs": [
    {
     "name": "stdout",
     "output_type": "stream",
     "text": [
      "Pytorch tensor:  tensor([0, 1, 2, 3])\n",
      "Numpy array:  [0 1 2 3]\n"
     ]
    }
   ],
   "source": [
    "# Turning back a tensor to a numpy array\n",
    "tensor = torch.arange(4)\n",
    "np_array = tensor.numpy()\n",
    "\n",
    "print(\"Pytorch tensor: \", tensor)\n",
    "print(\"Numpy array: \", np_array)"
   ]
  },
  {
   "cell_type": "markdown",
   "metadata": {},
   "source": [
    "`Note: To do the conversion the tensor must be on the CPU, and not on the GPU`"
   ]
  },
  {
   "cell_type": "markdown",
   "metadata": {},
   "source": [
    "### Operations with tensors\n",
    "\n",
    "Most of the numpy operations can also be done in tensors. Some of the simpliest operations are the next ones:"
   ]
  },
  {
   "cell_type": "code",
   "execution_count": 12,
   "metadata": {},
   "outputs": [
    {
     "name": "stdout",
     "output_type": "stream",
     "text": [
      "Total sum:  tensor([[1.0569, 0.3448, 1.2448],\n",
      "        [0.7826, 0.8848, 0.8151]])\n"
     ]
    }
   ],
   "source": [
    "# Adding two tensors\n",
    "x1 = torch.rand(2, 3)\n",
    "x2 = torch.rand(2, 3)\n",
    "y = x1 + x2\n",
    "\n",
    "print(\"Total sum: \", y)"
   ]
  },
  {
   "cell_type": "markdown",
   "metadata": {},
   "source": [
    "The code above creates a new tensor with the sum of two inputs. However, we can you in place operations that are applied directly on the memory of a tensor.\n",
    "\n",
    "With this in mind, we can change the values of x1 without re-accesing the values of x2 before the operation"
   ]
  },
  {
   "cell_type": "code",
   "execution_count": 14,
   "metadata": {},
   "outputs": [
    {
     "name": "stdout",
     "output_type": "stream",
     "text": [
      "Original x2:  tensor([[0.6440, 0.7071, 0.6581],\n",
      "        [0.4913, 0.8913, 0.1447]])\n",
      "X2 add:  tensor([[1.3979, 0.9024, 0.6632],\n",
      "        [0.7981, 1.0078, 1.0550]])\n"
     ]
    }
   ],
   "source": [
    "# Initializing tensors\n",
    "x1 = torch.rand(2, 3)\n",
    "x2 = torch.rand(2, 3)\n",
    "print(\"Original x2: \", x2)\n",
    "\n",
    "x2.add_(x1) # In place operations are marked with a underscore postfix\n",
    "print(\"X2 add: \", x2)"
   ]
  },
  {
   "cell_type": "code",
   "execution_count": 18,
   "metadata": {},
   "outputs": [
    {
     "name": "stdout",
     "output_type": "stream",
     "text": [
      "Original:  tensor([0, 1, 2, 3, 4, 5])\n",
      "Re-organized:  tensor([[0, 1, 2],\n",
      "        [3, 4, 5]])\n",
      "Swapping:  tensor([[0, 3],\n",
      "        [1, 4],\n",
      "        [2, 5]])\n"
     ]
    }
   ],
   "source": [
    "# Changing the shape of a tensor\n",
    "x = torch.arange(6)\n",
    "print(\"Original: \", x)\n",
    "\n",
    "# Re-organized shape with the same order of elements\n",
    "x = x.view(2,3)\n",
    "print(\"Re-organized: \", x)\n",
    "\n",
    "# Swapping dimensions 0 and 1\n",
    "x = x.permute(1, 0)\n",
    "print(\"Swapping: \", x)"
   ]
  }
 ],
 "metadata": {
  "kernelspec": {
   "display_name": "Python 3",
   "language": "python",
   "name": "python3"
  },
  "language_info": {
   "codemirror_mode": {
    "name": "ipython",
    "version": 3
   },
   "file_extension": ".py",
   "mimetype": "text/x-python",
   "name": "python",
   "nbconvert_exporter": "python",
   "pygments_lexer": "ipython3",
   "version": "3.10.11"
  }
 },
 "nbformat": 4,
 "nbformat_minor": 2
}
